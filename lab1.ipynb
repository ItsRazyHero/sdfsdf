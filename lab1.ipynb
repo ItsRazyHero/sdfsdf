{
  "nbformat": 4,
  "nbformat_minor": 0,
  "metadata": {
    "colab": {
      "provenance": []
    },
    "kernelspec": {
      "name": "python3",
      "display_name": "Python 3"
    },
    "language_info": {
      "name": "python"
    }
  },
  "cells": [
    {
      "cell_type": "code",
      "source": [
        "class CargoTransportation:\n",
        "    def __init__(self, company_name, price_per_ton, total_tons):\n",
        "        self._company_name = company_name\n",
        "        self._price_per_ton = price_per_ton\n",
        "        self._total_tons = total_tons\n",
        "\n",
        "    @property\n",
        "    def company_name(self):\n",
        "        return self._company_name\n",
        "\n",
        "    @company_name.setter\n",
        "    def company_name(self, name):\n",
        "        self._company_name = name\n",
        "\n",
        "    @property\n",
        "    def total_tons(self):\n",
        "        return self._total_tons\n",
        "\n",
        "    @total_tons.setter\n",
        "    def total_tons(self, tons):\n",
        "        if tons >= 0:\n",
        "            self._total_tons = tons\n",
        "        else:\n",
        "            raise ValueError(\"Масса груза не может быть отрицательной\")\n",
        "\n",
        "    @property\n",
        "    def price_per_ton(self):\n",
        "        raise AttributeError(\"Невозможно прочитать это свойство\")\n",
        "\n",
        "    @price_per_ton.setter\n",
        "    def price_per_ton(self, price):\n",
        "        if price > 0:\n",
        "            self._price_per_ton = price\n",
        "        else:\n",
        "            raise ValueError(\"Цена за тонну должна быть больше нуля\")\n",
        "\n",
        "    def calculate_total_revenue(self):\n",
        "        return self._price_per_ton * self._total_tons\n",
        "\n",
        "    def print_info(self):\n",
        "        print(f\"Фирма: {self._company_name}\")\n",
        "        print(f\"Общая выручка: {self.calculate_total_revenue()} руб.\")"
      ],
      "metadata": {
        "id": "lk2W2PbqYWjp"
      },
      "execution_count": 1,
      "outputs": []
    },
    {
      "cell_type": "code",
      "source": [
        "cargo = CargoTransportation(\"Транспортная Компания\", 5000.0, 120.5)\n",
        "\n",
        "cargo.print_info()\n",
        "\n",
        "cargo.price_per_ton = 5500.0\n",
        "\n",
        "cargo.total_tons = 130.0\n",
        "\n",
        "cargo.print_info()"
      ],
      "metadata": {
        "id": "jmqQArdFYjSX",
        "outputId": "b933fc1e-730d-4b59-9bf0-fd1f8bfa936b",
        "colab": {
          "base_uri": "https://localhost:8080/"
        }
      },
      "execution_count": 2,
      "outputs": [
        {
          "output_type": "stream",
          "name": "stdout",
          "text": [
            "Фирма: Транспортная Компания\n",
            "Общая выручка: 602500.0 руб.\n",
            "Фирма: Транспортная Компания\n",
            "Общая выручка: 715000.0 руб.\n"
          ]
        }
      ]
    },
    {
      "cell_type": "code",
      "source": [
        "cargo.price_per_ton"
      ],
      "metadata": {
        "id": "Epb5ZvTCYlxk",
        "outputId": "ac724830-40da-46e9-a3dd-7967a3f0110f",
        "colab": {
          "base_uri": "https://localhost:8080/",
          "height": 263
        }
      },
      "execution_count": 3,
      "outputs": [
        {
          "output_type": "error",
          "ename": "AttributeError",
          "evalue": "Невозможно прочитать это свойство",
          "traceback": [
            "\u001b[0;31m---------------------------------------------------------------------------\u001b[0m",
            "\u001b[0;31mAttributeError\u001b[0m                            Traceback (most recent call last)",
            "\u001b[0;32m<ipython-input-3-6b3c692263ca>\u001b[0m in \u001b[0;36m<cell line: 1>\u001b[0;34m()\u001b[0m\n\u001b[0;32m----> 1\u001b[0;31m \u001b[0mcargo\u001b[0m\u001b[0;34m.\u001b[0m\u001b[0mprice_per_ton\u001b[0m\u001b[0;34m\u001b[0m\u001b[0;34m\u001b[0m\u001b[0m\n\u001b[0m",
            "\u001b[0;32m<ipython-input-1-24f7f70c12bf>\u001b[0m in \u001b[0;36mprice_per_ton\u001b[0;34m(self)\u001b[0m\n\u001b[1;32m     26\u001b[0m     \u001b[0;34m@\u001b[0m\u001b[0mproperty\u001b[0m\u001b[0;34m\u001b[0m\u001b[0;34m\u001b[0m\u001b[0m\n\u001b[1;32m     27\u001b[0m     \u001b[0;32mdef\u001b[0m \u001b[0mprice_per_ton\u001b[0m\u001b[0;34m(\u001b[0m\u001b[0mself\u001b[0m\u001b[0;34m)\u001b[0m\u001b[0;34m:\u001b[0m\u001b[0;34m\u001b[0m\u001b[0;34m\u001b[0m\u001b[0m\n\u001b[0;32m---> 28\u001b[0;31m         \u001b[0;32mraise\u001b[0m \u001b[0mAttributeError\u001b[0m\u001b[0;34m(\u001b[0m\u001b[0;34m\"Невозможно прочитать это свойство\"\u001b[0m\u001b[0;34m)\u001b[0m\u001b[0;34m\u001b[0m\u001b[0;34m\u001b[0m\u001b[0m\n\u001b[0m\u001b[1;32m     29\u001b[0m \u001b[0;34m\u001b[0m\u001b[0m\n\u001b[1;32m     30\u001b[0m     \u001b[0;34m@\u001b[0m\u001b[0mprice_per_ton\u001b[0m\u001b[0;34m.\u001b[0m\u001b[0msetter\u001b[0m\u001b[0;34m\u001b[0m\u001b[0;34m\u001b[0m\u001b[0m\n",
            "\u001b[0;31mAttributeError\u001b[0m: Невозможно прочитать это свойство"
          ]
        }
      ]
    },
    {
      "cell_type": "code",
      "source": [
        "cargo.price_per_ton = -102"
      ],
      "metadata": {
        "id": "iOJu6k3uYpAK",
        "outputId": "38a8847e-9df8-436d-aa5f-b5fbb7651d5f",
        "colab": {
          "base_uri": "https://localhost:8080/",
          "height": 263
        }
      },
      "execution_count": 4,
      "outputs": [
        {
          "output_type": "error",
          "ename": "ValueError",
          "evalue": "Цена за тонну должна быть больше нуля",
          "traceback": [
            "\u001b[0;31m---------------------------------------------------------------------------\u001b[0m",
            "\u001b[0;31mValueError\u001b[0m                                Traceback (most recent call last)",
            "\u001b[0;32m<ipython-input-4-5e2163a96f64>\u001b[0m in \u001b[0;36m<cell line: 1>\u001b[0;34m()\u001b[0m\n\u001b[0;32m----> 1\u001b[0;31m \u001b[0mcargo\u001b[0m\u001b[0;34m.\u001b[0m\u001b[0mprice_per_ton\u001b[0m \u001b[0;34m=\u001b[0m \u001b[0;34m-\u001b[0m\u001b[0;36m102\u001b[0m\u001b[0;34m\u001b[0m\u001b[0;34m\u001b[0m\u001b[0m\n\u001b[0m",
            "\u001b[0;32m<ipython-input-1-24f7f70c12bf>\u001b[0m in \u001b[0;36mprice_per_ton\u001b[0;34m(self, price)\u001b[0m\n\u001b[1;32m     33\u001b[0m             \u001b[0mself\u001b[0m\u001b[0;34m.\u001b[0m\u001b[0m_price_per_ton\u001b[0m \u001b[0;34m=\u001b[0m \u001b[0mprice\u001b[0m\u001b[0;34m\u001b[0m\u001b[0;34m\u001b[0m\u001b[0m\n\u001b[1;32m     34\u001b[0m         \u001b[0;32melse\u001b[0m\u001b[0;34m:\u001b[0m\u001b[0;34m\u001b[0m\u001b[0;34m\u001b[0m\u001b[0m\n\u001b[0;32m---> 35\u001b[0;31m             \u001b[0;32mraise\u001b[0m \u001b[0mValueError\u001b[0m\u001b[0;34m(\u001b[0m\u001b[0;34m\"Цена за тонну должна быть больше нуля\"\u001b[0m\u001b[0;34m)\u001b[0m\u001b[0;34m\u001b[0m\u001b[0;34m\u001b[0m\u001b[0m\n\u001b[0m\u001b[1;32m     36\u001b[0m \u001b[0;34m\u001b[0m\u001b[0m\n\u001b[1;32m     37\u001b[0m     \u001b[0;32mdef\u001b[0m \u001b[0mcalculate_total_revenue\u001b[0m\u001b[0;34m(\u001b[0m\u001b[0mself\u001b[0m\u001b[0;34m)\u001b[0m\u001b[0;34m:\u001b[0m\u001b[0;34m\u001b[0m\u001b[0;34m\u001b[0m\u001b[0m\n",
            "\u001b[0;31mValueError\u001b[0m: Цена за тонну должна быть больше нуля"
          ]
        }
      ]
    }
  ]
}